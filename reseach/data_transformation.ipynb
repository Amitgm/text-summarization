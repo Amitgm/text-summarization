{
 "cells": [
  {
   "cell_type": "markdown",
   "metadata": {},
   "source": [
    "#### Data Transformation"
   ]
  },
  {
   "cell_type": "code",
   "execution_count": 2,
   "metadata": {},
   "outputs": [],
   "source": [
    "import os"
   ]
  },
  {
   "cell_type": "code",
   "execution_count": 3,
   "metadata": {},
   "outputs": [],
   "source": [
    "os.chdir(\"../\")"
   ]
  },
  {
   "cell_type": "code",
   "execution_count": 4,
   "metadata": {},
   "outputs": [
    {
     "data": {
      "text/plain": [
       "'c:\\\\Users\\\\amitt\\\\Documents\\\\ML-OPS\\\\text-summarization'"
      ]
     },
     "execution_count": 4,
     "metadata": {},
     "output_type": "execute_result"
    }
   ],
   "source": [
    "%pwd"
   ]
  },
  {
   "cell_type": "code",
   "execution_count": 5,
   "metadata": {},
   "outputs": [],
   "source": [
    "from dataclasses import dataclass\n",
    "from pathlib import Path\n",
    "\n",
    "# types of data to be ingested\n",
    "@dataclass\n",
    "class DataTransformationConfig:\n",
    "    root_dir : Path\n",
    "    data_path : Path\n",
    "    tokenizer_name : Path"
   ]
  },
  {
   "cell_type": "code",
   "execution_count": 6,
   "metadata": {},
   "outputs": [],
   "source": [
    "from src.textsummarizer.constant import *\n",
    "from src.textsummarizer.utils.common import read_yaml,create_directories"
   ]
  },
  {
   "cell_type": "code",
   "execution_count": 7,
   "metadata": {},
   "outputs": [],
   "source": [
    "#  this goes into the configuration file under config folder\n",
    "class ConfigurationManager:\n",
    "    def __init__( self,config_filepath = CONFIG_PATH, params_filepath = PARAMS_PATH):\n",
    "\n",
    "        self.config = read_yaml(config_filepath)\n",
    "        self.params = read_yaml(params_filepath)\n",
    "\n",
    "        create_directories([self.config.artifacts_root])\n",
    "\n",
    "\n",
    "    def get_data_transformation_config(self) -> DataTransformationConfig:\n",
    "\n",
    "\n",
    "        config = self.config.data_transformation\n",
    "\n",
    "        create_directories([config.root_dir])\n",
    "\n",
    "\n",
    "        data_transformation_config = DataTransformationConfig(\n",
    "\n",
    "            root_dir = config.root_dir,\n",
    "            data_path = config.data_path,\n",
    "            tokenizer_name = config.tokenizer_name,\n",
    "        )\n",
    "\n",
    "        return data_transformation_config\n",
    "\n"
   ]
  },
  {
   "cell_type": "code",
   "execution_count": null,
   "metadata": {},
   "outputs": [],
   "source": [
    "import os\n",
    "from src.textsummarizer.logging import logger\n",
    "from transformers import AutoTokenizer\n",
    "from datasets import load_from_disk"
   ]
  },
  {
   "cell_type": "markdown",
   "metadata": {},
   "source": [
    "#### Data Transformation Components"
   ]
  },
  {
   "cell_type": "code",
   "execution_count": 11,
   "metadata": {},
   "outputs": [],
   "source": [
    "class DataTransformation:\n",
    "\n",
    "    def __init__(self,config: DataTransformationConfig):\n",
    "\n",
    "        self.config = config\n",
    "        self.tokenizer = AutoTokenizer.from_pretrained(config.tokenizer_name)\n",
    "\n",
    "\n",
    "    def convert_to_examples(self,example_batch):\n",
    "\n",
    "\n",
    "        input_encodings = self.tokenizer(example_batch[\"dialogue\"], max_length=1024, truncation=True)\n",
    "        # use as a target tokenizer\n",
    "        with self.tokenizer.as_target_tokenizer():\n",
    "\n",
    "            target_encodings = self.tokenizer(example_batch[\"summary\"], max_length=128, truncation=True)\n",
    "\n",
    "        return {\n",
    "                \"input_ids\": input_encodings[\"input_ids\"],\n",
    "                \"attention_mask\": input_encodings[\"attention_mask\"],\n",
    "                \"labels\": target_encodings[\"input_ids\"]\n",
    "        }\n",
    "    \n",
    "    def convert(self):\n",
    "\n",
    "        dataset_samsum = load_from_disk(self.config.data_path)\n",
    "        dataset_samsum_pt = dataset_samsum.map(self.convert_to_examples, batched=True)\n",
    "\n",
    "        dataset_samsum_pt.save_to_disk(os.path.join(self.config.root_dir,\"samsum_dataset\"))\n",
    "\n",
    "\n"
   ]
  },
  {
   "cell_type": "code",
   "execution_count": 13,
   "metadata": {},
   "outputs": [
    {
     "name": "stdout",
     "output_type": "stream",
     "text": [
      "[2025-02-14 19:56:00,408: INFO: common: yaml file: config\\config.yaml loaded successfully]\n",
      "[2025-02-14 19:56:00,410: INFO: common: yaml file: params.yaml loaded successfully]\n",
      "[2025-02-14 19:56:00,411: INFO: common: created directory at: artifacts]\n",
      "[2025-02-14 19:56:00,412: INFO: common: created directory at: artifacts/data_transformation]\n"
     ]
    },
    {
     "name": "stderr",
     "output_type": "stream",
     "text": [
      "Map:   0%|          | 0/14732 [00:00<?, ? examples/s]c:\\Users\\amitt\\Documents\\ML-OPS\\text-summarization\\myenv\\lib\\site-packages\\transformers\\tokenization_utils_base.py:3961: UserWarning: `as_target_tokenizer` is deprecated and will be removed in v5 of Transformers. You can tokenize your labels by using the argument `text_target` of the regular `__call__` method (either in the same call as your input texts if you use the same keyword arguments, or in a separate call.\n",
      "  warnings.warn(\n",
      "Map: 100%|██████████| 14732/14732 [00:01<00:00, 10362.79 examples/s]\n",
      "Map: 100%|██████████| 819/819 [00:00<00:00, 9160.19 examples/s]\n",
      "Map: 100%|██████████| 818/818 [00:00<00:00, 9672.82 examples/s]\n",
      "Saving the dataset (1/1 shards): 100%|██████████| 14732/14732 [00:00<00:00, 540717.45 examples/s]\n",
      "Saving the dataset (1/1 shards): 100%|██████████| 819/819 [00:00<00:00, 235041.74 examples/s]\n",
      "Saving the dataset (1/1 shards): 100%|██████████| 818/818 [00:00<00:00, 162081.48 examples/s]\n"
     ]
    }
   ],
   "source": [
    "config = ConfigurationManager()\n",
    "\n",
    "data_transformation_config = config.get_data_transformation_config()\n",
    "\n",
    "data_transformation = DataTransformation(config=data_transformation_config)\n",
    "\n",
    "data_transformation.convert()"
   ]
  }
 ],
 "metadata": {
  "kernelspec": {
   "display_name": "myenv",
   "language": "python",
   "name": "python3"
  },
  "language_info": {
   "codemirror_mode": {
    "name": "ipython",
    "version": 3
   },
   "file_extension": ".py",
   "mimetype": "text/x-python",
   "name": "python",
   "nbconvert_exporter": "python",
   "pygments_lexer": "ipython3",
   "version": "3.10.3"
  }
 },
 "nbformat": 4,
 "nbformat_minor": 2
}
