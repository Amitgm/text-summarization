{
 "cells": [
  {
   "cell_type": "code",
   "execution_count": 1,
   "metadata": {},
   "outputs": [],
   "source": [
    "import os"
   ]
  },
  {
   "cell_type": "code",
   "execution_count": 2,
   "metadata": {},
   "outputs": [
    {
     "data": {
      "text/plain": [
       "'c:\\\\Users\\\\amitt\\\\Documents\\\\ML-OPS\\\\text-summarization\\\\reseach'"
      ]
     },
     "execution_count": 2,
     "metadata": {},
     "output_type": "execute_result"
    }
   ],
   "source": [
    "%pwd"
   ]
  },
  {
   "cell_type": "code",
   "execution_count": 3,
   "metadata": {},
   "outputs": [],
   "source": [
    "os.chdir(\"../\")"
   ]
  },
  {
   "cell_type": "code",
   "execution_count": 4,
   "metadata": {},
   "outputs": [
    {
     "data": {
      "text/plain": [
       "'c:\\\\Users\\\\amitt\\\\Documents\\\\ML-OPS\\\\text-summarization'"
      ]
     },
     "execution_count": 4,
     "metadata": {},
     "output_type": "execute_result"
    }
   ],
   "source": [
    "%pwd"
   ]
  },
  {
   "cell_type": "code",
   "execution_count": 5,
   "metadata": {},
   "outputs": [
    {
     "name": "stdout",
     "output_type": "stream",
     "text": [
      "Sat Feb 15 17:48:27 2025       \n",
      "+-----------------------------------------------------------------------------------------+\n",
      "| NVIDIA-SMI 561.19                 Driver Version: 561.19         CUDA Version: 12.6     |\n",
      "|-----------------------------------------+------------------------+----------------------+\n",
      "| GPU  Name                  Driver-Model | Bus-Id          Disp.A | Volatile Uncorr. ECC |\n",
      "| Fan  Temp   Perf          Pwr:Usage/Cap |           Memory-Usage | GPU-Util  Compute M. |\n",
      "|                                         |                        |               MIG M. |\n",
      "|=========================================+========================+======================|\n",
      "|   0  NVIDIA GeForce RTX 4050 ...  WDDM  |   00000000:01:00.0 Off |                  N/A |\n",
      "| N/A   43C    P0             14W /   86W |       0MiB /   6141MiB |      0%      Default |\n",
      "|                                         |                        |                  N/A |\n",
      "+-----------------------------------------+------------------------+----------------------+\n",
      "                                                                                         \n",
      "+-----------------------------------------------------------------------------------------+\n",
      "| Processes:                                                                              |\n",
      "|  GPU   GI   CI        PID   Type   Process name                              GPU Memory |\n",
      "|        ID   ID                                                               Usage      |\n",
      "|=========================================================================================|\n",
      "|  No running processes found                                                             |\n",
      "+-----------------------------------------------------------------------------------------+\n"
     ]
    }
   ],
   "source": [
    "!nvidia-smi"
   ]
  },
  {
   "cell_type": "code",
   "execution_count": 6,
   "metadata": {},
   "outputs": [
    {
     "name": "stdout",
     "output_type": "stream",
     "text": [
      "Requirement already satisfied: transformers[sentencepiece] in c:\\users\\amitt\\documents\\ml-ops\\text-summarization\\myenv\\lib\\site-packages (4.48.3)\n",
      "Requirement already satisfied: safetensors>=0.4.1 in c:\\users\\amitt\\documents\\ml-ops\\text-summarization\\myenv\\lib\\site-packages (from transformers[sentencepiece]) (0.5.2)\n",
      "Requirement already satisfied: tqdm>=4.27 in c:\\users\\amitt\\documents\\ml-ops\\text-summarization\\myenv\\lib\\site-packages (from transformers[sentencepiece]) (4.67.1)\n",
      "Requirement already satisfied: numpy>=1.17 in c:\\users\\amitt\\documents\\ml-ops\\text-summarization\\myenv\\lib\\site-packages (from transformers[sentencepiece]) (2.2.2)\n",
      "Requirement already satisfied: tokenizers<0.22,>=0.21 in c:\\users\\amitt\\documents\\ml-ops\\text-summarization\\myenv\\lib\\site-packages (from transformers[sentencepiece]) (0.21.0)\n",
      "Requirement already satisfied: pyyaml>=5.1 in c:\\users\\amitt\\documents\\ml-ops\\text-summarization\\myenv\\lib\\site-packages (from transformers[sentencepiece]) (6.0.2)\n",
      "Requirement already satisfied: packaging>=20.0 in c:\\users\\amitt\\documents\\ml-ops\\text-summarization\\myenv\\lib\\site-packages (from transformers[sentencepiece]) (24.2)\n",
      "Requirement already satisfied: requests in c:\\users\\amitt\\documents\\ml-ops\\text-summarization\\myenv\\lib\\site-packages (from transformers[sentencepiece]) (2.32.3)\n",
      "Requirement already satisfied: filelock in c:\\users\\amitt\\documents\\ml-ops\\text-summarization\\myenv\\lib\\site-packages (from transformers[sentencepiece]) (3.17.0)\n",
      "Requirement already satisfied: huggingface-hub<1.0,>=0.24.0 in c:\\users\\amitt\\documents\\ml-ops\\text-summarization\\myenv\\lib\\site-packages (from transformers[sentencepiece]) (0.28.1)\n",
      "Requirement already satisfied: regex!=2019.12.17 in c:\\users\\amitt\\documents\\ml-ops\\text-summarization\\myenv\\lib\\site-packages (from transformers[sentencepiece]) (2024.11.6)\n",
      "Requirement already satisfied: protobuf in c:\\users\\amitt\\documents\\ml-ops\\text-summarization\\myenv\\lib\\site-packages (from transformers[sentencepiece]) (5.29.3)\n",
      "Requirement already satisfied: sentencepiece!=0.1.92,>=0.1.91 in c:\\users\\amitt\\documents\\ml-ops\\text-summarization\\myenv\\lib\\site-packages (from transformers[sentencepiece]) (0.2.0)\n",
      "Requirement already satisfied: typing-extensions>=3.7.4.3 in c:\\users\\amitt\\documents\\ml-ops\\text-summarization\\myenv\\lib\\site-packages (from huggingface-hub<1.0,>=0.24.0->transformers[sentencepiece]) (4.12.2)\n",
      "Requirement already satisfied: fsspec>=2023.5.0 in c:\\users\\amitt\\documents\\ml-ops\\text-summarization\\myenv\\lib\\site-packages (from huggingface-hub<1.0,>=0.24.0->transformers[sentencepiece]) (2024.9.0)\n",
      "Requirement already satisfied: colorama in c:\\users\\amitt\\documents\\ml-ops\\text-summarization\\myenv\\lib\\site-packages (from tqdm>=4.27->transformers[sentencepiece]) (0.4.6)\n",
      "Requirement already satisfied: certifi>=2017.4.17 in c:\\users\\amitt\\documents\\ml-ops\\text-summarization\\myenv\\lib\\site-packages (from requests->transformers[sentencepiece]) (2025.1.31)\n",
      "Requirement already satisfied: idna<4,>=2.5 in c:\\users\\amitt\\documents\\ml-ops\\text-summarization\\myenv\\lib\\site-packages (from requests->transformers[sentencepiece]) (3.10)\n",
      "Requirement already satisfied: charset-normalizer<4,>=2 in c:\\users\\amitt\\documents\\ml-ops\\text-summarization\\myenv\\lib\\site-packages (from requests->transformers[sentencepiece]) (3.4.1)\n",
      "Requirement already satisfied: urllib3<3,>=1.21.1 in c:\\users\\amitt\\documents\\ml-ops\\text-summarization\\myenv\\lib\\site-packages (from requests->transformers[sentencepiece]) (2.3.0)\n"
     ]
    },
    {
     "name": "stderr",
     "output_type": "stream",
     "text": [
      "WARNING: You are using pip version 22.0.4; however, version 25.0.1 is available.\n",
      "You should consider upgrading via the 'C:\\Users\\amitt\\Documents\\ML-OPS\\text-summarization\\myenv\\Scripts\\python.exe -m pip install --upgrade pip' command.\n"
     ]
    },
    {
     "name": "stdout",
     "output_type": "stream",
     "text": [
      "Requirement already satisfied: sacrebleu in c:\\users\\amitt\\documents\\ml-ops\\text-summarization\\myenv\\lib\\site-packages (2.5.1)\n",
      "Requirement already satisfied: regex in c:\\users\\amitt\\documents\\ml-ops\\text-summarization\\myenv\\lib\\site-packages (from sacrebleu) (2024.11.6)\n",
      "Requirement already satisfied: lxml in c:\\users\\amitt\\documents\\ml-ops\\text-summarization\\myenv\\lib\\site-packages (from sacrebleu) (5.3.1)\n",
      "Requirement already satisfied: numpy>=1.17 in c:\\users\\amitt\\documents\\ml-ops\\text-summarization\\myenv\\lib\\site-packages (from sacrebleu) (2.2.2)\n",
      "Requirement already satisfied: tabulate>=0.8.9 in c:\\users\\amitt\\documents\\ml-ops\\text-summarization\\myenv\\lib\\site-packages (from sacrebleu) (0.9.0)\n",
      "Requirement already satisfied: portalocker in c:\\users\\amitt\\documents\\ml-ops\\text-summarization\\myenv\\lib\\site-packages (from sacrebleu) (3.1.1)\n",
      "Requirement already satisfied: colorama in c:\\users\\amitt\\documents\\ml-ops\\text-summarization\\myenv\\lib\\site-packages (from sacrebleu) (0.4.6)\n",
      "Requirement already satisfied: pywin32>=226 in c:\\users\\amitt\\documents\\ml-ops\\text-summarization\\myenv\\lib\\site-packages (from portalocker->sacrebleu) (308)\n"
     ]
    },
    {
     "name": "stderr",
     "output_type": "stream",
     "text": [
      "WARNING: You are using pip version 22.0.4; however, version 25.0.1 is available.\n",
      "You should consider upgrading via the 'C:\\Users\\amitt\\Documents\\ML-OPS\\text-summarization\\myenv\\Scripts\\python.exe -m pip install --upgrade pip' command.\n"
     ]
    },
    {
     "name": "stdout",
     "output_type": "stream",
     "text": [
      "Requirement already satisfied: py7zr in c:\\users\\amitt\\documents\\ml-ops\\text-summarization\\myenv\\lib\\site-packages (0.22.0)\n",
      "Requirement already satisfied: pyppmd<1.2.0,>=1.1.0 in c:\\users\\amitt\\documents\\ml-ops\\text-summarization\\myenv\\lib\\site-packages (from py7zr) (1.1.1)\n",
      "Requirement already satisfied: brotli>=1.1.0 in c:\\users\\amitt\\documents\\ml-ops\\text-summarization\\myenv\\lib\\site-packages (from py7zr) (1.1.0)\n",
      "Requirement already satisfied: pybcj<1.1.0,>=1.0.0 in c:\\users\\amitt\\documents\\ml-ops\\text-summarization\\myenv\\lib\\site-packages (from py7zr) (1.0.3)\n",
      "Requirement already satisfied: multivolumefile>=0.2.3 in c:\\users\\amitt\\documents\\ml-ops\\text-summarization\\myenv\\lib\\site-packages (from py7zr) (0.2.3)\n",
      "Requirement already satisfied: pyzstd>=0.15.9 in c:\\users\\amitt\\documents\\ml-ops\\text-summarization\\myenv\\lib\\site-packages (from py7zr) (0.16.2)\n",
      "Requirement already satisfied: psutil in c:\\users\\amitt\\documents\\ml-ops\\text-summarization\\myenv\\lib\\site-packages (from py7zr) (6.1.1)\n",
      "Requirement already satisfied: texttable in c:\\users\\amitt\\documents\\ml-ops\\text-summarization\\myenv\\lib\\site-packages (from py7zr) (1.7.0)\n",
      "Requirement already satisfied: inflate64<1.1.0,>=1.0.0 in c:\\users\\amitt\\documents\\ml-ops\\text-summarization\\myenv\\lib\\site-packages (from py7zr) (1.0.1)\n",
      "Requirement already satisfied: pycryptodomex>=3.16.0 in c:\\users\\amitt\\documents\\ml-ops\\text-summarization\\myenv\\lib\\site-packages (from py7zr) (3.21.0)\n"
     ]
    },
    {
     "name": "stderr",
     "output_type": "stream",
     "text": [
      "WARNING: You are using pip version 22.0.4; however, version 25.0.1 is available.\n",
      "You should consider upgrading via the 'C:\\Users\\amitt\\Documents\\ML-OPS\\text-summarization\\myenv\\Scripts\\python.exe -m pip install --upgrade pip' command.\n",
      "ERROR: You must give at least one requirement to install (see \"pip help install\")\n",
      "WARNING: You are using pip version 22.0.4; however, version 25.0.1 is available.\n",
      "You should consider upgrading via the 'C:\\Users\\amitt\\Documents\\ML-OPS\\text-summarization\\myenv\\Scripts\\python.exe -m pip install --upgrade pip' command.\n"
     ]
    }
   ],
   "source": [
    "!pip install transformers[sentencepiece] \n",
    "\n",
    "!pip install sacrebleu\n",
    "\n",
    "!pip install py7zr \n",
    "!pip install -q"
   ]
  },
  {
   "cell_type": "code",
   "execution_count": 7,
   "metadata": {},
   "outputs": [
    {
     "name": "stdout",
     "output_type": "stream",
     "text": [
      "Requirement already satisfied: accelerate in c:\\users\\amitt\\documents\\ml-ops\\text-summarization\\myenv\\lib\\site-packages (1.3.0)\n",
      "Requirement already satisfied: packaging>=20.0 in c:\\users\\amitt\\documents\\ml-ops\\text-summarization\\myenv\\lib\\site-packages (from accelerate) (24.2)\n",
      "Requirement already satisfied: psutil in c:\\users\\amitt\\documents\\ml-ops\\text-summarization\\myenv\\lib\\site-packages (from accelerate) (6.1.1)\n",
      "Requirement already satisfied: pyyaml in c:\\users\\amitt\\documents\\ml-ops\\text-summarization\\myenv\\lib\\site-packages (from accelerate) (6.0.2)\n",
      "Requirement already satisfied: safetensors>=0.4.3 in c:\\users\\amitt\\documents\\ml-ops\\text-summarization\\myenv\\lib\\site-packages (from accelerate) (0.5.2)\n",
      "Requirement already satisfied: huggingface-hub>=0.21.0 in c:\\users\\amitt\\documents\\ml-ops\\text-summarization\\myenv\\lib\\site-packages (from accelerate) (0.28.1)\n",
      "Requirement already satisfied: numpy<3.0.0,>=1.17 in c:\\users\\amitt\\documents\\ml-ops\\text-summarization\\myenv\\lib\\site-packages (from accelerate) (2.2.2)\n",
      "Requirement already satisfied: torch>=2.0.0 in c:\\users\\amitt\\documents\\ml-ops\\text-summarization\\myenv\\lib\\site-packages (from accelerate) (2.6.0)\n",
      "Requirement already satisfied: tqdm>=4.42.1 in c:\\users\\amitt\\documents\\ml-ops\\text-summarization\\myenv\\lib\\site-packages (from huggingface-hub>=0.21.0->accelerate) (4.67.1)\n",
      "Requirement already satisfied: filelock in c:\\users\\amitt\\documents\\ml-ops\\text-summarization\\myenv\\lib\\site-packages (from huggingface-hub>=0.21.0->accelerate) (3.17.0)\n",
      "Requirement already satisfied: requests in c:\\users\\amitt\\documents\\ml-ops\\text-summarization\\myenv\\lib\\site-packages (from huggingface-hub>=0.21.0->accelerate) (2.32.3)\n",
      "Requirement already satisfied: fsspec>=2023.5.0 in c:\\users\\amitt\\documents\\ml-ops\\text-summarization\\myenv\\lib\\site-packages (from huggingface-hub>=0.21.0->accelerate) (2024.9.0)\n",
      "Requirement already satisfied: typing-extensions>=3.7.4.3 in c:\\users\\amitt\\documents\\ml-ops\\text-summarization\\myenv\\lib\\site-packages (from huggingface-hub>=0.21.0->accelerate) (4.12.2)\n",
      "Requirement already satisfied: sympy==1.13.1 in c:\\users\\amitt\\documents\\ml-ops\\text-summarization\\myenv\\lib\\site-packages (from torch>=2.0.0->accelerate) (1.13.1)\n",
      "Requirement already satisfied: networkx in c:\\users\\amitt\\documents\\ml-ops\\text-summarization\\myenv\\lib\\site-packages (from torch>=2.0.0->accelerate) (3.4.2)\n",
      "Requirement already satisfied: jinja2 in c:\\users\\amitt\\documents\\ml-ops\\text-summarization\\myenv\\lib\\site-packages (from torch>=2.0.0->accelerate) (3.1.2)\n",
      "Requirement already satisfied: mpmath<1.4,>=1.1.0 in c:\\users\\amitt\\documents\\ml-ops\\text-summarization\\myenv\\lib\\site-packages (from sympy==1.13.1->torch>=2.0.0->accelerate) (1.3.0)\n",
      "Requirement already satisfied: colorama in c:\\users\\amitt\\documents\\ml-ops\\text-summarization\\myenv\\lib\\site-packages (from tqdm>=4.42.1->huggingface-hub>=0.21.0->accelerate) (0.4.6)\n",
      "Requirement already satisfied: MarkupSafe>=2.0 in c:\\users\\amitt\\documents\\ml-ops\\text-summarization\\myenv\\lib\\site-packages (from jinja2->torch>=2.0.0->accelerate) (3.0.2)\n",
      "Requirement already satisfied: certifi>=2017.4.17 in c:\\users\\amitt\\documents\\ml-ops\\text-summarization\\myenv\\lib\\site-packages (from requests->huggingface-hub>=0.21.0->accelerate) (2025.1.31)\n",
      "Requirement already satisfied: charset-normalizer<4,>=2 in c:\\users\\amitt\\documents\\ml-ops\\text-summarization\\myenv\\lib\\site-packages (from requests->huggingface-hub>=0.21.0->accelerate) (3.4.1)\n",
      "Requirement already satisfied: idna<4,>=2.5 in c:\\users\\amitt\\documents\\ml-ops\\text-summarization\\myenv\\lib\\site-packages (from requests->huggingface-hub>=0.21.0->accelerate) (3.10)\n",
      "Requirement already satisfied: urllib3<3,>=1.21.1 in c:\\users\\amitt\\documents\\ml-ops\\text-summarization\\myenv\\lib\\site-packages (from requests->huggingface-hub>=0.21.0->accelerate) (2.3.0)\n"
     ]
    },
    {
     "name": "stderr",
     "output_type": "stream",
     "text": [
      "WARNING: You are using pip version 22.0.4; however, version 25.0.1 is available.\n",
      "You should consider upgrading via the 'C:\\Users\\amitt\\Documents\\ML-OPS\\text-summarization\\myenv\\Scripts\\python.exe -m pip install --upgrade pip' command.\n"
     ]
    },
    {
     "name": "stdout",
     "output_type": "stream",
     "text": [
      "Found existing installation: transformers 4.48.3\n",
      "Uninstalling transformers-4.48.3:\n",
      "  Successfully uninstalled transformers-4.48.3\n",
      "Found existing installation: accelerate 1.3.0\n",
      "Uninstalling accelerate-1.3.0:\n",
      "  Successfully uninstalled accelerate-1.3.0\n",
      "Collecting transformers\n",
      "  Using cached transformers-4.48.3-py3-none-any.whl (9.7 MB)\n",
      "Collecting accelerate\n",
      "  Using cached accelerate-1.3.0-py3-none-any.whl (336 kB)\n",
      "Requirement already satisfied: pyyaml>=5.1 in c:\\users\\amitt\\documents\\ml-ops\\text-summarization\\myenv\\lib\\site-packages (from transformers) (6.0.2)\n",
      "Requirement already satisfied: huggingface-hub<1.0,>=0.24.0 in c:\\users\\amitt\\documents\\ml-ops\\text-summarization\\myenv\\lib\\site-packages (from transformers) (0.28.1)\n",
      "Requirement already satisfied: filelock in c:\\users\\amitt\\documents\\ml-ops\\text-summarization\\myenv\\lib\\site-packages (from transformers) (3.17.0)\n",
      "Requirement already satisfied: numpy>=1.17 in c:\\users\\amitt\\documents\\ml-ops\\text-summarization\\myenv\\lib\\site-packages (from transformers) (2.2.2)\n",
      "Requirement already satisfied: packaging>=20.0 in c:\\users\\amitt\\documents\\ml-ops\\text-summarization\\myenv\\lib\\site-packages (from transformers) (24.2)\n",
      "Requirement already satisfied: safetensors>=0.4.1 in c:\\users\\amitt\\documents\\ml-ops\\text-summarization\\myenv\\lib\\site-packages (from transformers) (0.5.2)\n",
      "Requirement already satisfied: tqdm>=4.27 in c:\\users\\amitt\\documents\\ml-ops\\text-summarization\\myenv\\lib\\site-packages (from transformers) (4.67.1)\n",
      "Requirement already satisfied: requests in c:\\users\\amitt\\documents\\ml-ops\\text-summarization\\myenv\\lib\\site-packages (from transformers) (2.32.3)\n",
      "Requirement already satisfied: tokenizers<0.22,>=0.21 in c:\\users\\amitt\\documents\\ml-ops\\text-summarization\\myenv\\lib\\site-packages (from transformers) (0.21.0)\n",
      "Requirement already satisfied: regex!=2019.12.17 in c:\\users\\amitt\\documents\\ml-ops\\text-summarization\\myenv\\lib\\site-packages (from transformers) (2024.11.6)\n",
      "Requirement already satisfied: torch>=2.0.0 in c:\\users\\amitt\\documents\\ml-ops\\text-summarization\\myenv\\lib\\site-packages (from accelerate) (2.6.0)\n",
      "Requirement already satisfied: psutil in c:\\users\\amitt\\documents\\ml-ops\\text-summarization\\myenv\\lib\\site-packages (from accelerate) (6.1.1)\n",
      "Requirement already satisfied: typing-extensions>=3.7.4.3 in c:\\users\\amitt\\documents\\ml-ops\\text-summarization\\myenv\\lib\\site-packages (from huggingface-hub<1.0,>=0.24.0->transformers) (4.12.2)\n",
      "Requirement already satisfied: fsspec>=2023.5.0 in c:\\users\\amitt\\documents\\ml-ops\\text-summarization\\myenv\\lib\\site-packages (from huggingface-hub<1.0,>=0.24.0->transformers) (2024.9.0)\n",
      "Requirement already satisfied: jinja2 in c:\\users\\amitt\\documents\\ml-ops\\text-summarization\\myenv\\lib\\site-packages (from torch>=2.0.0->accelerate) (3.1.2)\n",
      "Requirement already satisfied: networkx in c:\\users\\amitt\\documents\\ml-ops\\text-summarization\\myenv\\lib\\site-packages (from torch>=2.0.0->accelerate) (3.4.2)\n",
      "Requirement already satisfied: sympy==1.13.1 in c:\\users\\amitt\\documents\\ml-ops\\text-summarization\\myenv\\lib\\site-packages (from torch>=2.0.0->accelerate) (1.13.1)\n",
      "Requirement already satisfied: mpmath<1.4,>=1.1.0 in c:\\users\\amitt\\documents\\ml-ops\\text-summarization\\myenv\\lib\\site-packages (from sympy==1.13.1->torch>=2.0.0->accelerate) (1.3.0)\n",
      "Requirement already satisfied: colorama in c:\\users\\amitt\\documents\\ml-ops\\text-summarization\\myenv\\lib\\site-packages (from tqdm>=4.27->transformers) (0.4.6)\n",
      "Requirement already satisfied: certifi>=2017.4.17 in c:\\users\\amitt\\documents\\ml-ops\\text-summarization\\myenv\\lib\\site-packages (from requests->transformers) (2025.1.31)\n",
      "Requirement already satisfied: idna<4,>=2.5 in c:\\users\\amitt\\documents\\ml-ops\\text-summarization\\myenv\\lib\\site-packages (from requests->transformers) (3.10)\n",
      "Requirement already satisfied: urllib3<3,>=1.21.1 in c:\\users\\amitt\\documents\\ml-ops\\text-summarization\\myenv\\lib\\site-packages (from requests->transformers) (2.3.0)\n",
      "Requirement already satisfied: charset-normalizer<4,>=2 in c:\\users\\amitt\\documents\\ml-ops\\text-summarization\\myenv\\lib\\site-packages (from requests->transformers) (3.4.1)\n",
      "Requirement already satisfied: MarkupSafe>=2.0 in c:\\users\\amitt\\documents\\ml-ops\\text-summarization\\myenv\\lib\\site-packages (from jinja2->torch>=2.0.0->accelerate) (3.0.2)\n",
      "Installing collected packages: accelerate, transformers\n",
      "Successfully installed accelerate-1.3.0 transformers-4.48.3\n"
     ]
    },
    {
     "name": "stderr",
     "output_type": "stream",
     "text": [
      "WARNING: You are using pip version 22.0.4; however, version 25.0.1 is available.\n",
      "You should consider upgrading via the 'C:\\Users\\amitt\\Documents\\ML-OPS\\text-summarization\\myenv\\Scripts\\python.exe -m pip install --upgrade pip' command.\n"
     ]
    }
   ],
   "source": [
    "!pip install --upgrade accelerate\n",
    "!pip uninstall -y transformers accelerate\n",
    "!pip install transformers accelerate"
   ]
  },
  {
   "cell_type": "code",
   "execution_count": 16,
   "metadata": {},
   "outputs": [],
   "source": [
    "from dataclasses import dataclass\n",
    "from pathlib import Path\n",
    "\n",
    "@dataclass\n",
    "class ModelTrainerConfig:\n",
    "\n",
    "    root_dir : Path\n",
    "    data_path : Path\n",
    "    model_name : Path\n",
    "    num_train_epochs: int\n",
    "    warmup_steps: int\n",
    "    per_device_train_batch_size: int\n",
    "    per_device_eval_batch_size: int\n",
    "    weight_decay: float\n",
    "    logging_steps: int\n",
    "    evaluation_strategy: str\n",
    "    eval_steps: int\n",
    "    save_steps: float\n",
    "    gradient_accumulation_steps: int\n",
    "\n"
   ]
  },
  {
   "cell_type": "code",
   "execution_count": 17,
   "metadata": {},
   "outputs": [],
   "source": [
    "from src.textsummarizer.constant import *\n",
    "from src.textsummarizer.utils.common import read_yaml, create_directories"
   ]
  },
  {
   "cell_type": "code",
   "execution_count": 18,
   "metadata": {},
   "outputs": [],
   "source": [
    "#  this goes into the configuration file under config folder\n",
    "class ConfigurationManager:\n",
    "    def __init__( self,config_filepath = CONFIG_PATH, params_filepath = PARAMS_PATH):\n",
    "\n",
    "        self.config = read_yaml(config_filepath)\n",
    "        self.params = read_yaml(params_filepath)\n",
    "\n",
    "        create_directories([self.config.artifacts_root])\n",
    "\n",
    "    def get_model_trainer_config(self) -> ModelTrainerConfig:\n",
    "\n",
    "            config = self.config.model_trainer\n",
    "            print(config)\n",
    "            params = self.params.TrainingArguments\n",
    "\n",
    "            # creating root directory for config.root_dir\n",
    "\n",
    "            create_directories([config.root_dir])\n",
    "\n",
    "            model_trainer_config = ModelTrainerConfig(\n",
    "\n",
    "                root_dir = config.root_dir,\n",
    "                data_path = config.data_path,\n",
    "                model_name = config.model_name,\n",
    "                num_train_epochs = params.num_train_epochs,\n",
    "                warmup_steps = params.warmup_steps,\n",
    "                per_device_train_batch_size = params.per_device_train_batch_size,\n",
    "                per_device_eval_batch_size = params.per_device_eval_batch_size,\n",
    "                weight_decay = params.weight_decay,\n",
    "                logging_steps = params.logging_steps,\n",
    "                evaluation_strategy = params.evaluation_strategy,\n",
    "                eval_steps = params.eval_steps,\n",
    "                save_steps = params.save_steps,\n",
    "                gradient_accumulation_steps =  params.gradient_accumulation_steps\n",
    "            )\n",
    "\n",
    "            return model_trainer_config\n"
   ]
  },
  {
   "cell_type": "code",
   "execution_count": 19,
   "metadata": {},
   "outputs": [],
   "source": [
    "from transformers import AutoTokenizer, AutoModelForSeq2SeqLM\n",
    "from transformers import TrainingArguments, Trainer\n",
    "from transformers import DataCollatorForSeq2Seq\n",
    "import torch\n",
    "from datasets import load_from_disk"
   ]
  },
  {
   "cell_type": "code",
   "execution_count": null,
   "metadata": {},
   "outputs": [],
   "source": [
    "class ModelTrainer:\n",
    "\n",
    "    def __init__(self, config: ModelTrainerConfig):\n",
    "\n",
    "        self.config = config\n",
    "\n",
    "    def train(self):\n",
    "\n",
    "        device = \"cuda\" if torch.cuda.is_available() else \"cpu\"\n",
    "\n",
    "        tokenizer = AutoTokenizer.from_pretrained(self.config.model_name) # load tokenizr\n",
    "        model = AutoModelForSeq2SeqLM.from_pretrained(self.config.model_name).to(device) #\n",
    "\n",
    "        seq2seq_data_collator = DataCollatorForSeq2Seq(tokenizer,model=model)\n",
    "\n",
    "        # loading the data\n",
    "\n",
    "        dataset_samsum_pt = load_from_disk(self.config.data_path)\n",
    "\n",
    "        trainer_args = TrainingArguments(\n",
    "\n",
    "            output_dir = self.config.root_dir, \n",
    "            num_train_epochs = self.config.num_train_epochs, \n",
    "            warmup_steps = self.config.warmup_steps,\n",
    "            per_device_train_batch_size = self.config.per_device_train_batch_size, \n",
    "            per_device_eval_batch_size = self.config.per_device_eval_batch_size,\n",
    "            weight_decay = self.config.weight_decay, \n",
    "            logging_steps = self.config.logging_steps, \n",
    "            evaluation_strategy = self.config.evaluation_strategy, \n",
    "            eval_steps = self.config.eval_steps, \n",
    "            save_steps = 1e6,\n",
    "            gradient_accumulation_steps = self.config.gradient_accumulation_steps,\n",
    "            # remove_unused_columns=False\n",
    "        )\n",
    "\n",
    "        trainer = Trainer(model=model, args=trainer_args,\n",
    "                  tokenizer=tokenizer, data_collator=seq2seq_data_collator,\n",
    "                  train_dataset=dataset_samsum_pt[\"test\"],\n",
    "                  eval_dataset=dataset_samsum_pt[\"validation\"])\n",
    "        \n",
    "\n",
    "        trainer.train()\n",
    "\n",
    "        model.save_pretrained(os.path.join(self.config.root_dir,\"pegasus-samsum-trained-model\"))  \n",
    "\n",
    "        tokenizer.save_pretrained(os.path.join(self.config.root_dir,\"tokenizer\"))\n",
    "\n"
   ]
  },
  {
   "cell_type": "code",
   "execution_count": 21,
   "metadata": {},
   "outputs": [
    {
     "name": "stdout",
     "output_type": "stream",
     "text": [
      "[2025-02-15 18:00:39,931: INFO: common: yaml file: config\\config.yaml loaded successfully]\n"
     ]
    },
    {
     "name": "stdout",
     "output_type": "stream",
     "text": [
      "[2025-02-15 18:00:39,932: INFO: common: yaml file: params.yaml loaded successfully]\n",
      "[2025-02-15 18:00:39,934: INFO: common: created directory at: artifacts]\n",
      "{'root_dir': 'artifacts/model_training', 'data_path': 'artifacts/data_transformation/samsum_dataset', 'model_name': 'google/pegasus-cnn_dailymail'}\n",
      "[2025-02-15 18:00:39,934: INFO: common: created directory at: artifacts/model_training]\n"
     ]
    },
    {
     "name": "stderr",
     "output_type": "stream",
     "text": [
      "Some weights of PegasusForConditionalGeneration were not initialized from the model checkpoint at google/pegasus-cnn_dailymail and are newly initialized: ['model.decoder.embed_positions.weight', 'model.encoder.embed_positions.weight']\n",
      "You should probably TRAIN this model on a down-stream task to be able to use it for predictions and inference.\n",
      "C:\\Users\\amitt\\AppData\\Local\\Temp\\ipykernel_20752\\2232375563.py:36: FutureWarning: `tokenizer` is deprecated and will be removed in version 5.0.0 for `Trainer.__init__`. Use `processing_class` instead.\n",
      "  trainer = Trainer(model=model, args=trainer_args,\n"
     ]
    },
    {
     "data": {
      "text/html": [
       "\n",
       "    <div>\n",
       "      \n",
       "      <progress value='51' max='51' style='width:300px; height:20px; vertical-align: middle;'></progress>\n",
       "      [51/51 26:31, Epoch 0/1]\n",
       "    </div>\n",
       "    <table border=\"1\" class=\"dataframe\">\n",
       "  <thead>\n",
       " <tr style=\"text-align: left;\">\n",
       "      <th>Step</th>\n",
       "      <th>Training Loss</th>\n",
       "      <th>Validation Loss</th>\n",
       "    </tr>\n",
       "  </thead>\n",
       "  <tbody>\n",
       "  </tbody>\n",
       "</table><p>"
      ],
      "text/plain": [
       "<IPython.core.display.HTML object>"
      ]
     },
     "metadata": {},
     "output_type": "display_data"
    },
    {
     "name": "stderr",
     "output_type": "stream",
     "text": [
      "c:\\Users\\amitt\\Documents\\ML-OPS\\text-summarization\\myenv\\lib\\site-packages\\transformers\\modeling_utils.py:2758: UserWarning: Moving the following attributes in the config to the generation config: {'max_length': 128, 'min_length': 32, 'num_beams': 8, 'length_penalty': 0.8}. You are seeing this warning because you've set generation parameters in the model config, as opposed to in the generation config.\n",
      "  warnings.warn(\n"
     ]
    }
   ],
   "source": [
    "config = ConfigurationManager()\n",
    "\n",
    "model_trainer_config = config.get_model_trainer_config()\n",
    "\n",
    "model_trainer = ModelTrainer(config=model_trainer_config)\n",
    "\n",
    "model_trainer.train()"
   ]
  },
  {
   "cell_type": "code",
   "execution_count": null,
   "metadata": {},
   "outputs": [],
   "source": []
  },
  {
   "cell_type": "code",
   "execution_count": null,
   "metadata": {},
   "outputs": [],
   "source": []
  },
  {
   "cell_type": "code",
   "execution_count": null,
   "metadata": {},
   "outputs": [],
   "source": []
  }
 ],
 "metadata": {
  "kernelspec": {
   "display_name": "myenv",
   "language": "python",
   "name": "python3"
  },
  "language_info": {
   "codemirror_mode": {
    "name": "ipython",
    "version": 3
   },
   "file_extension": ".py",
   "mimetype": "text/x-python",
   "name": "python",
   "nbconvert_exporter": "python",
   "pygments_lexer": "ipython3",
   "version": "3.10.3"
  }
 },
 "nbformat": 4,
 "nbformat_minor": 2
}
